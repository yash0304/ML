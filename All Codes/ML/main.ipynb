{
 "cells": [
  {
   "cell_type": "markdown",
   "id": "00df3945",
   "metadata": {},
   "source": [
    "# Importing necessary libraries"
   ]
  },
  {
   "cell_type": "code",
   "execution_count": 1,
   "id": "ba96f983",
   "metadata": {},
   "outputs": [],
   "source": [
    "#importing all the necessary libraries\n",
    "import eda as eda\n",
    "import dataframe as df\n",
    "import visualize as v\n",
    "import train as t\n",
    "import pandas as pd"
   ]
  },
  {
   "cell_type": "markdown",
   "id": "65a3fb3e",
   "metadata": {},
   "source": [
    "# Regression technique"
   ]
  },
  {
   "cell_type": "markdown",
   "id": "948d4ef3",
   "metadata": {},
   "source": [
    "## Fetching Boston dataframe"
   ]
  },
  {
   "cell_type": "code",
   "execution_count": null,
   "id": "bdb9c368",
   "metadata": {},
   "outputs": [],
   "source": [
    "boston_df = df.get_boston()"
   ]
  },
  {
   "cell_type": "markdown",
   "id": "382cc282",
   "metadata": {},
   "source": [
    "## EDA"
   ]
  },
  {
   "cell_type": "code",
   "execution_count": null,
   "id": "967666b0",
   "metadata": {},
   "outputs": [],
   "source": [
    "boston_df = eda.del_cols(boston_df,['Unnamed: 0'])\n",
    "feature_boston_df= df.get_feature_df(boston_df,['Price'])\n",
    "target_boston_df = df.get_target_df(boston_df,['Price'])\n"
   ]
  },
  {
   "cell_type": "code",
   "execution_count": null,
   "id": "ab837609",
   "metadata": {},
   "outputs": [],
   "source": [
    "#checking null values and information about columns\n",
    "eda.get_missing_values(boston_df)"
   ]
  },
  {
   "cell_type": "code",
   "execution_count": null,
   "id": "d60d289e",
   "metadata": {},
   "outputs": [],
   "source": [
    "eda.get_categorical_cols(feature_boston_df)"
   ]
  },
  {
   "cell_type": "code",
   "execution_count": null,
   "id": "3c89d218",
   "metadata": {},
   "outputs": [],
   "source": [
    "eda.get_numerical_cols(feature_boston_df)"
   ]
  },
  {
   "cell_type": "code",
   "execution_count": null,
   "id": "892ca378",
   "metadata": {},
   "outputs": [],
   "source": [
    "#get_lmplot(boston_df,boston_df_features,'Price') - #giving correct result \n",
    "#eda.get_heatmap(boston_df) # giving correct result for continuous target variable\n",
    "eda.get_pairgrid(boston_df,feature_boston_df,target_boston_df)"
   ]
  },
  {
   "cell_type": "markdown",
   "id": "5c1e11ea",
   "metadata": {},
   "source": [
    "## Creating Regression models"
   ]
  },
  {
   "cell_type": "code",
   "execution_count": null,
   "id": "93d79f57",
   "metadata": {},
   "outputs": [],
   "source": [
    "num_cols, cat_cols = t.get_cols(feature_boston_df)\n",
    "model,y_test,y_pred = t.model_pipeline(feature_boston_df,target_boston_df,num_cols=num_cols,cat_cols=cat_cols,task='linear_regression')"
   ]
  },
  {
   "cell_type": "markdown",
   "id": "a78ce824",
   "metadata": {},
   "source": [
    "## Evaluating regression models"
   ]
  },
  {
   "cell_type": "code",
   "execution_count": null,
   "id": "98237e8e",
   "metadata": {},
   "outputs": [],
   "source": [
    "t.evaluate_model(y_test,y_pred,'regression')"
   ]
  },
  {
   "cell_type": "code",
   "execution_count": null,
   "id": "eb774ab2",
   "metadata": {},
   "outputs": [],
   "source": [
    "v.plot_actual_vs_predicted(y_test=y_test,y_pred=y_pred)"
   ]
  },
  {
   "cell_type": "code",
   "execution_count": null,
   "id": "ed9304a4",
   "metadata": {},
   "outputs": [],
   "source": [
    "v.plot_residuals(y_test,y_pred)"
   ]
  },
  {
   "cell_type": "code",
   "execution_count": null,
   "id": "377f48f7",
   "metadata": {},
   "outputs": [],
   "source": [
    "t.get_MAPE(y_test,y_pred)*100#finding out MAPE"
   ]
  },
  {
   "cell_type": "code",
   "execution_count": null,
   "id": "92854d32",
   "metadata": {},
   "outputs": [],
   "source": [
    "print(t.get_training_error(feature_boston_df,target_boston_df,num_cols, cat_cols))"
   ]
  },
  {
   "cell_type": "code",
   "execution_count": null,
   "id": "d0dae436",
   "metadata": {},
   "outputs": [],
   "source": [
    "print(t.get_lasso_mape(1,feature_boston_df,target_boston_df))\n",
    "print(t.get_ridge_mape(0.1,feature_boston_df,target_boston_df))\n",
    "print(t.get_elasticnet_mape(0.001,feature_boston_df,target_boston_df))"
   ]
  },
  {
   "cell_type": "markdown",
   "id": "902215af",
   "metadata": {},
   "source": [
    "lasso, ridge and elasticnet is worse than linear regression, hence we will continue to use linear regression"
   ]
  },
  {
   "cell_type": "markdown",
   "id": "50fa8789",
   "metadata": {},
   "source": [
    "# Classification Techniques\n"
   ]
  },
  {
   "cell_type": "markdown",
   "id": "00e21544",
   "metadata": {},
   "source": [
    "## Fetching Churn dataset"
   ]
  },
  {
   "cell_type": "code",
   "execution_count": 2,
   "id": "509a3973",
   "metadata": {},
   "outputs": [],
   "source": [
    "churn_df = df.get_churn_df()"
   ]
  },
  {
   "cell_type": "markdown",
   "id": "a4bdbae4",
   "metadata": {},
   "source": [
    "## EDA"
   ]
  },
  {
   "cell_type": "code",
   "execution_count": 3,
   "id": "cc99a87c",
   "metadata": {},
   "outputs": [],
   "source": [
    "#some EDA, removing irrelevant columns and changing the datatype of few columns\n",
    "churn_df = eda.del_cols(churn_df,'customerID')\n",
    "churn_df['TotalCharges'] = pd.to_numeric(churn_df['TotalCharges'].values,errors='coerce')"
   ]
  },
  {
   "cell_type": "code",
   "execution_count": 4,
   "id": "39fa302f",
   "metadata": {},
   "outputs": [],
   "source": [
    "#dropping null values and creating a copy of a dataframe\n",
    "churn_df_new = eda.drop_null_values(churn_df)"
   ]
  },
  {
   "cell_type": "code",
   "execution_count": 5,
   "id": "34c81c63",
   "metadata": {},
   "outputs": [],
   "source": [
    "#Creating target dataframe from main dataframe\n",
    "target_churn_df = df.get_target_df(churn_df_new,['Churn'])"
   ]
  },
  {
   "cell_type": "code",
   "execution_count": 6,
   "id": "d8fca260",
   "metadata": {},
   "outputs": [
    {
     "data": {
      "text/plain": [
       "Churn\n",
       "No       5163\n",
       "Yes      1869\n",
       "Name: count, dtype: int64"
      ]
     },
     "execution_count": 6,
     "metadata": {},
     "output_type": "execute_result"
    }
   ],
   "source": [
    "target_1 = target_churn_df\n",
    "target_1.value_counts()"
   ]
  },
  {
   "cell_type": "code",
   "execution_count": 7,
   "id": "771de582",
   "metadata": {},
   "outputs": [
    {
     "name": "stderr",
     "output_type": "stream",
     "text": [
      "C:\\Users\\Yash\\AppData\\Local\\Temp\\ipykernel_12688\\342483088.py:2: SettingWithCopyWarning: \n",
      "A value is trying to be set on a copy of a slice from a DataFrame\n",
      "\n",
      "See the caveats in the documentation: https://pandas.pydata.org/pandas-docs/stable/user_guide/indexing.html#returning-a-view-versus-a-copy\n",
      "  target_1.loc[target_1['Churn']=='No']=0\n",
      "C:\\Users\\Yash\\AppData\\Local\\Temp\\ipykernel_12688\\342483088.py:3: SettingWithCopyWarning: \n",
      "A value is trying to be set on a copy of a slice from a DataFrame\n",
      "\n",
      "See the caveats in the documentation: https://pandas.pydata.org/pandas-docs/stable/user_guide/indexing.html#returning-a-view-versus-a-copy\n",
      "  target_1.loc[target_1['Churn']=='Yes']=1\n"
     ]
    }
   ],
   "source": [
    "#creating target as 0 and 1 instead of 'Yes' and 'No' so that it will work with XGBoost \n",
    "target_1.loc[target_1['Churn']=='No']=0\n",
    "target_1.loc[target_1['Churn']=='Yes']=1"
   ]
  },
  {
   "cell_type": "code",
   "execution_count": 8,
   "id": "a7c8ea9f",
   "metadata": {},
   "outputs": [],
   "source": [
    "# Creating Features from main dataframe\n",
    "feature_churn_df = df.get_feature_df(churn_df_new,['Churn'])"
   ]
  },
  {
   "cell_type": "code",
   "execution_count": 9,
   "id": "68426674",
   "metadata": {},
   "outputs": [],
   "source": [
    "num_cols = eda.get_numerical_cols(feature_churn_df)\n",
    "cat_cols = eda.get_categorical_cols(feature_churn_df)"
   ]
  },
  {
   "cell_type": "code",
   "execution_count": 10,
   "id": "0f4864d3",
   "metadata": {},
   "outputs": [
    {
     "name": "stderr",
     "output_type": "stream",
     "text": [
      "C:\\Users\\Yash\\AppData\\Local\\Temp\\ipykernel_12688\\3066148092.py:2: FutureWarning: Downcasting behavior in `replace` is deprecated and will be removed in a future version. To retain the old behavior, explicitly call `result.infer_objects(copy=False)`. To opt-in to the future behavior, set `pd.set_option('future.no_silent_downcasting', True)`\n",
      "  target_2=target_2.replace({'Yes':1,'No':0})\n"
     ]
    }
   ],
   "source": [
    "target_2 = target_1.copy()\n",
    "target_2=target_2.replace({'Yes':1,'No':0})\n",
    "target_churn_df = target_2.copy()"
   ]
  },
  {
   "cell_type": "markdown",
   "id": "e70d9a2f",
   "metadata": {},
   "source": [
    "## KNN"
   ]
  },
  {
   "cell_type": "code",
   "execution_count": 13,
   "id": "2c8c0151",
   "metadata": {},
   "outputs": [
    {
     "name": "stdout",
     "output_type": "stream",
     "text": [
      "              precision    recall  f1-score   support\n",
      "\n",
      "           0       0.82      0.84      0.83      1033\n",
      "           1       0.53      0.50      0.52       374\n",
      "\n",
      "    accuracy                           0.75      1407\n",
      "   macro avg       0.68      0.67      0.67      1407\n",
      "weighted avg       0.75      0.75      0.75      1407\n",
      "\n",
      "{'Accuracy Score': '74.9822316986496%', 'Classification report': None}\n"
     ]
    }
   ],
   "source": [
    "model_knn,y_test_knn,y_pred_knn = t.model_pipeline(feature_churn_df,target_churn_df,num_cols,cat_cols,'knn')\n",
    "report_knn=t.evaluate_model(y_test_knn,y_pred_knn,'knn')\n",
    "print(report_knn)"
   ]
  },
  {
   "cell_type": "markdown",
   "id": "b7800e8f",
   "metadata": {},
   "source": [
    "## Decision Tree"
   ]
  },
  {
   "cell_type": "code",
   "execution_count": 19,
   "id": "08d5f227",
   "metadata": {},
   "outputs": [
    {
     "name": "stdout",
     "output_type": "stream",
     "text": [
      "              precision    recall  f1-score   support\n",
      "\n",
      "           0       0.81      0.80      0.80      1033\n",
      "           1       0.46      0.48      0.47       374\n",
      "\n",
      "    accuracy                           0.71      1407\n",
      "   macro avg       0.64      0.64      0.64      1407\n",
      "weighted avg       0.72      0.71      0.72      1407\n",
      "\n",
      "{'Accuracy Score': '71.35749822316987%', 'Classification report': None}\n"
     ]
    }
   ],
   "source": [
    "model_dt,y_test_dt,y_pred_dt = t.model_pipeline(feature_churn_df,target_churn_df,num_cols,cat_cols,'decision_tree')\n",
    "report_dt = t.evaluate_model(y_test_dt,y_pred_dt,'decision_tree')\n",
    "print(report_dt)"
   ]
  },
  {
   "cell_type": "markdown",
   "id": "97b576e2",
   "metadata": {},
   "source": [
    "## Random Forest"
   ]
  },
  {
   "cell_type": "code",
   "execution_count": 16,
   "id": "236e701c",
   "metadata": {},
   "outputs": [
    {
     "name": "stdout",
     "output_type": "stream",
     "text": [
      "              precision    recall  f1-score   support\n",
      "\n",
      "           0       0.82      0.90      0.86      1033\n",
      "           1       0.61      0.45      0.52       374\n",
      "\n",
      "    accuracy                           0.78      1407\n",
      "   macro avg       0.72      0.67      0.69      1407\n",
      "weighted avg       0.76      0.78      0.77      1407\n",
      "\n",
      "{'Accuracy Score': '77.82515991471215%', 'Classification report': None}\n"
     ]
    }
   ],
   "source": [
    "model_rf,y_test_rf,y_pred_rf = t.model_pipeline(feature_churn_df,target_churn_df,num_cols,cat_cols,'randon_forest')\n",
    "report_rf = t.evaluate_model(y_test_rf,y_pred_rf,'random_forest')\n",
    "print(report_rf)"
   ]
  },
  {
   "cell_type": "markdown",
   "id": "3b74052f",
   "metadata": {},
   "source": [
    "## Naive Bayes"
   ]
  },
  {
   "cell_type": "code",
   "execution_count": 22,
   "id": "2be8054b",
   "metadata": {},
   "outputs": [
    {
     "name": "stdout",
     "output_type": "stream",
     "text": [
      "              precision    recall  f1-score   support\n",
      "\n",
      "           0       0.91      0.68      0.77      1033\n",
      "           1       0.47      0.81      0.60       374\n",
      "\n",
      "    accuracy                           0.71      1407\n",
      "   macro avg       0.69      0.74      0.69      1407\n",
      "weighted avg       0.79      0.71      0.73      1407\n",
      "\n",
      "{'Accuracy Score': '71.14427860696517%', 'Classification report': None}\n"
     ]
    }
   ],
   "source": [
    "model_nb,y_test_nb,y_pred_nb = t.model_pipeline(feature_churn_df,target_churn_df,num_cols,cat_cols,'naive_bayes')\n",
    "report_nb = t.evaluate_model(y_test_nb,y_pred_nb,'naive bayes')\n",
    "print(report_nb)"
   ]
  },
  {
   "cell_type": "markdown",
   "id": "8214bd30",
   "metadata": {},
   "source": [
    "## SVM"
   ]
  },
  {
   "cell_type": "code",
   "execution_count": 25,
   "id": "6c1ff1ce",
   "metadata": {},
   "outputs": [
    {
     "name": "stdout",
     "output_type": "stream",
     "text": [
      "              precision    recall  f1-score   support\n",
      "\n",
      "           0       0.83      0.90      0.86      1033\n",
      "           1       0.64      0.48      0.55       374\n",
      "\n",
      "    accuracy                           0.79      1407\n",
      "   macro avg       0.74      0.69      0.71      1407\n",
      "weighted avg       0.78      0.79      0.78      1407\n",
      "\n",
      "{'Accuracy Score': '79.1044776119403%', 'Classification report': None}\n"
     ]
    }
   ],
   "source": [
    "model_sv,y_test_sv,y_pred_sv = t.model_pipeline(feature_churn_df,target_churn_df,num_cols,cat_cols,'svm')\n",
    "report_sv = t.evaluate_model(y_test_sv,y_pred_sv,'svm')\n",
    "print(report_sv)"
   ]
  },
  {
   "cell_type": "markdown",
   "id": "cb6f6a2f",
   "metadata": {},
   "source": [
    "## Logistic Regression"
   ]
  },
  {
   "cell_type": "code",
   "execution_count": 28,
   "id": "f2bef330",
   "metadata": {},
   "outputs": [
    {
     "name": "stdout",
     "output_type": "stream",
     "text": [
      "              precision    recall  f1-score   support\n",
      "\n",
      "           0       0.84      0.89      0.86      1033\n",
      "           1       0.62      0.52      0.57       374\n",
      "\n",
      "    accuracy                           0.79      1407\n",
      "   macro avg       0.73      0.70      0.71      1407\n",
      "weighted avg       0.78      0.79      0.78      1407\n",
      "\n",
      "{'Accuracy Score': '78.89125799573561%', 'Classification report': None}\n"
     ]
    }
   ],
   "source": [
    "model_lrc,y_test_lrc,y_pred_lrc = t.model_pipeline(feature_churn_df,target_churn_df,num_cols,cat_cols,'logistic_regression')\n",
    "report_lrc = t.evaluate_model(y_test_lrc,y_pred_lrc,'logistic_regression')\n",
    "print(report_lrc)"
   ]
  },
  {
   "cell_type": "markdown",
   "id": "b38f4191",
   "metadata": {},
   "source": [
    "## Adaboost"
   ]
  },
  {
   "cell_type": "code",
   "execution_count": 33,
   "id": "b730b55e",
   "metadata": {},
   "outputs": [],
   "source": [
    "model_ada,y_test_ada,y_pred_ada = t.model_pipeline(feature_churn_df,target_churn_df,num_cols,cat_cols,'Ada Boost classifier',0)"
   ]
  },
  {
   "cell_type": "code",
   "execution_count": 34,
   "id": "1322b440",
   "metadata": {},
   "outputs": [
    {
     "name": "stdout",
     "output_type": "stream",
     "text": [
      "              precision    recall  f1-score   support\n",
      "\n",
      "           0       0.82      0.82      0.82      1033\n",
      "           1       0.50      0.49      0.50       374\n",
      "\n",
      "    accuracy                           0.73      1407\n",
      "   macro avg       0.66      0.66      0.66      1407\n",
      "weighted avg       0.73      0.73      0.73      1407\n",
      "\n"
     ]
    },
    {
     "data": {
      "text/plain": [
       "{'Accuracy Score': '73.41862117981522%', 'Classification report': None}"
      ]
     },
     "execution_count": 34,
     "metadata": {},
     "output_type": "execute_result"
    }
   ],
   "source": [
    "t.evaluate_model(y_test_ada,y_pred_ada,'classification')"
   ]
  },
  {
   "cell_type": "markdown",
   "id": "b374b43a",
   "metadata": {},
   "source": [
    "## Gradient Boosting"
   ]
  },
  {
   "cell_type": "code",
   "execution_count": 39,
   "id": "d9b8c1f8",
   "metadata": {},
   "outputs": [
    {
     "name": "stdout",
     "output_type": "stream",
     "text": [
      "              precision    recall  f1-score   support\n",
      "\n",
      "           0       0.83      0.89      0.86      1033\n",
      "           1       0.63      0.50      0.56       374\n",
      "\n",
      "    accuracy                           0.79      1407\n",
      "   macro avg       0.73      0.70      0.71      1407\n",
      "weighted avg       0.78      0.79      0.78      1407\n",
      "\n"
     ]
    },
    {
     "data": {
      "text/plain": [
       "{'Accuracy Score': '78.82018479033405%', 'Classification report': None}"
      ]
     },
     "execution_count": 39,
     "metadata": {},
     "output_type": "execute_result"
    }
   ],
   "source": [
    "model_gb,y_test_gb,y_pred_gb = t.model_pipeline(feature_churn_df,target_churn_df,num_cols,cat_cols,'Gradient boost classifier')\n",
    "t.evaluate_model(y_test_gb,y_pred_gb,'classification')"
   ]
  },
  {
   "cell_type": "markdown",
   "id": "3f3a21c5",
   "metadata": {},
   "source": [
    "## XGBOOST"
   ]
  },
  {
   "cell_type": "code",
   "execution_count": null,
   "id": "13880540",
   "metadata": {},
   "outputs": [],
   "source": [
    "model_x, y_test_x,y_pred_x = t.model_pipeline(feature_churn_df,target_churn_df,num_cols,cat_cols,'xgboost')\n",
    "t.evaluate_model(y_test_x,y_pred_x,'classification')"
   ]
  }
 ],
 "metadata": {
  "kernelspec": {
   "display_name": "base",
   "language": "python",
   "name": "python3"
  },
  "language_info": {
   "codemirror_mode": {
    "name": "ipython",
    "version": 3
   },
   "file_extension": ".py",
   "mimetype": "text/x-python",
   "name": "python",
   "nbconvert_exporter": "python",
   "pygments_lexer": "ipython3",
   "version": "3.12.7"
  }
 },
 "nbformat": 4,
 "nbformat_minor": 5
}
