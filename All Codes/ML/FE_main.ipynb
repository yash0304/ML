{
 "cells": [
  {
   "cell_type": "code",
   "execution_count": 1,
   "id": "d0f34300",
   "metadata": {},
   "outputs": [],
   "source": [
    "import eda as eda\n",
    "import dataframe as df\n",
    "import train as t\n",
    "import pandas as pd\n",
    "import numpy as np\n",
    "from sklearn.linear_model import LogisticRegression\n",
    "from sklearn.feature_selection import RFECV,SequentialFeatureSelector\n",
    "from sklearn.model_selection import train_test_split\n",
    "from sklearn.metrics import accuracy_score"
   ]
  },
  {
   "cell_type": "markdown",
   "id": "c004c8cb",
   "metadata": {},
   "source": [
    "## Fetching Data and EDA"
   ]
  },
  {
   "cell_type": "code",
   "execution_count": null,
   "id": "2e21e5e2",
   "metadata": {},
   "outputs": [],
   "source": [
    "churn_df_new = df.get_churn_df()\n",
    "churn_df = churn_df_new.copy()\n",
    "churn_df.TotalCharges = pd.to_numeric(churn_df['TotalCharges'],errors='coerce')\n",
    "churn_df=eda.drop_null_values(churn_df)\n",
    "feature_churn_df = df.get_feature_df(churn_df,['customerID','Churn'])\n",
    "target_churn_df = df.get_target_df(churn_df,'Churn')\n",
    "\n",
    "feature_churn_df['SeniorCitizen'] = feature_churn_df['SeniorCitizen'].map({0:'No',1:'Yes'})\n",
    "feature_churn_df_encoded = pd.get_dummies(feature_churn_df)"
   ]
  },
  {
   "cell_type": "markdown",
   "id": "b406b2a0",
   "metadata": {},
   "source": [
    "## Logistic Regression"
   ]
  },
  {
   "cell_type": "code",
   "execution_count": null,
   "id": "4b79214e",
   "metadata": {},
   "outputs": [],
   "source": [
    "X_train,X_test,y_train,y_test = t.get_train_test_split_data(feature_churn_df_encoded,target_churn_df)\n",
    "lg = LogisticRegression()\n",
    "lg.fit(X_train,y_train)\n",
    "y_pred = lg.predict(X_test)\n",
    "print(\"Accuracy score is:   \", round(accuracy_score(y_test,y_pred)*100,2,),\"%\")"
   ]
  },
  {
   "cell_type": "markdown",
   "id": "208735d7",
   "metadata": {},
   "source": [
    "## RFE"
   ]
  },
  {
   "cell_type": "code",
   "execution_count": null,
   "id": "28b9d016",
   "metadata": {},
   "outputs": [],
   "source": []
  }
 ],
 "metadata": {
  "kernelspec": {
   "display_name": "base",
   "language": "python",
   "name": "python3"
  },
  "language_info": {
   "codemirror_mode": {
    "name": "ipython",
    "version": 3
   },
   "file_extension": ".py",
   "mimetype": "text/x-python",
   "name": "python",
   "nbconvert_exporter": "python",
   "pygments_lexer": "ipython3",
   "version": "3.12.7"
  }
 },
 "nbformat": 4,
 "nbformat_minor": 5
}
