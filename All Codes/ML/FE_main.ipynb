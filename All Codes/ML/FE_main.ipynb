{
 "cells": [
  {
   "cell_type": "markdown",
   "id": "5b93b03f",
   "metadata": {},
   "source": [
    "## Importing Necessary libraries"
   ]
  },
  {
   "cell_type": "code",
   "execution_count": 75,
   "id": "d0f34300",
   "metadata": {},
   "outputs": [],
   "source": [
    "import eda as eda\n",
    "import dataframe as df\n",
    "import train as t\n",
    "import pandas as pd\n",
    "#import numpy as np\n",
    "from sklearn.linear_model import LogisticRegression\n",
    "from sklearn.feature_selection import RFECV,SequentialFeatureSelector\n",
    "from sklearn.model_selection import train_test_split\n",
    "from sklearn.metrics import accuracy_score"
   ]
  },
  {
   "cell_type": "markdown",
   "id": "c004c8cb",
   "metadata": {},
   "source": [
    "## Fetching Data and EDA"
   ]
  },
  {
   "cell_type": "code",
   "execution_count": 76,
   "id": "2e21e5e2",
   "metadata": {},
   "outputs": [],
   "source": [
    "churn_df_new = df.get_churn_df()\n",
    "churn_df = churn_df_new.copy()\n",
    "churn_df.TotalCharges = pd.to_numeric(churn_df['TotalCharges'],errors='coerce')\n",
    "churn_df=eda.drop_null_values(churn_df)\n",
    "feature_churn_df = df.get_feature_df(churn_df,['customerID','Churn'])\n",
    "target_churn_df = df.get_target_df(churn_df,'Churn')\n",
    "\n",
    "feature_churn_df['SeniorCitizen'] = feature_churn_df['SeniorCitizen'].map({0:'No',1:'Yes'})\n",
    "feature_churn_df_encoded = pd.get_dummies(feature_churn_df)\n",
    "target1 = target_churn_df.map({'No':0,'Yes':1})"
   ]
  },
  {
   "cell_type": "markdown",
   "id": "b406b2a0",
   "metadata": {},
   "source": [
    "## Logistic Regression"
   ]
  },
  {
   "cell_type": "code",
   "execution_count": 78,
   "id": "4b79214e",
   "metadata": {},
   "outputs": [
    {
     "name": "stdout",
     "output_type": "stream",
     "text": [
      "Accuracy score is:    79.35 %\n"
     ]
    },
    {
     "name": "stderr",
     "output_type": "stream",
     "text": [
      "c:\\Users\\Yash\\anaconda3\\Lib\\site-packages\\sklearn\\linear_model\\_logistic.py:465: ConvergenceWarning: lbfgs failed to converge (status=1):\n",
      "STOP: TOTAL NO. of ITERATIONS REACHED LIMIT.\n",
      "\n",
      "Increase the number of iterations (max_iter) or scale the data as shown in:\n",
      "    https://scikit-learn.org/stable/modules/preprocessing.html\n",
      "Please also refer to the documentation for alternative solver options:\n",
      "    https://scikit-learn.org/stable/modules/linear_model.html#logistic-regression\n",
      "  n_iter_i = _check_optimize_result(\n"
     ]
    }
   ],
   "source": [
    "X_train,X_test,y_train,y_test = t.get_train_test_split_data(feature_churn_df_encoded,target_churn_df)\n",
    "lg = LogisticRegression()\n",
    "lg.fit(X_train,y_train)\n",
    "y_pred = lg.predict(X_test)\n",
    "print(\"Accuracy score is:   \", round(accuracy_score(y_test,y_pred)*100,2,),\"%\")"
   ]
  },
  {
   "cell_type": "markdown",
   "id": "208735d7",
   "metadata": {},
   "source": [
    "## RFE"
   ]
  },
  {
   "cell_type": "code",
   "execution_count": 8,
   "id": "2e82d25f",
   "metadata": {},
   "outputs": [
    {
     "name": "stdout",
     "output_type": "stream",
     "text": [
      "Optimal features:     43\n"
     ]
    }
   ],
   "source": [
    "X_train,X_test,y_train,y_test = t.get_train_test_split_data(feature_churn_df_encoded,target_churn_df)\n",
    "model = LogisticRegression(penalty='l1',solver='liblinear')\n",
    "rfe = RFECV(model,min_features_to_select=5)\n",
    "rfe.fit(X_train,y_train)\n",
    "\n",
    "print(\"Optimal features:    \",rfe.n_features_)\n",
    "#print(\"Selected_features:   \",X_train.columns[rfe.support_])"
   ]
  },
  {
   "cell_type": "code",
   "execution_count": 9,
   "id": "27c1f1e5",
   "metadata": {},
   "outputs": [
    {
     "name": "stdout",
     "output_type": "stream",
     "text": [
      "Accuracy score is:    79.01 %\n"
     ]
    }
   ],
   "source": [
    "X_train_rfe = pd.DataFrame(X_train,columns = X_train.columns[rfe.support_])\n",
    "X_test_rfe = pd.DataFrame(X_test,columns=X_test.columns[rfe.support_])\n",
    "rfe2 = rfe.fit(X_train_rfe,y_train)\n",
    "rfe2_pred = rfe2.predict(X_test_rfe)\n",
    "print(\"Accuracy score is:   \", round(accuracy_score(y_test,rfe2_pred)*100,2,),\"%\")\n"
   ]
  },
  {
   "cell_type": "markdown",
   "id": "f0811d96",
   "metadata": {},
   "source": [
    "## Sequential Feature Selector "
   ]
  },
  {
   "cell_type": "code",
   "execution_count": null,
   "id": "6d7107b7",
   "metadata": {},
   "outputs": [],
   "source": [
    "X_train,X_test,y_train,y_test = train_test_split(feature_churn_df_encoded,target_churn_df)\n",
    "model_Sfs = LogisticRegression()\n",
    "sfs = SequentialFeatureSelector(model_Sfs,n_features_to_select=5)\n",
    "sfs.fit(X_train,y_train)\n",
    "X_train_sfs = pd.DataFrame(sfs.transform(X_train),columns = sfs.get_feature_names_out(),index=X_train.index)\n",
    "X_test_sfs = pd.DataFrame(sfs.transform(X_test),columns = sfs.get_feature_names_out(),index=X_test.index)\n",
    "model_Sfs.fit(X_train_sfs,y_train)\n",
    "y_pred_sfs = model_Sfs.predict(X_test_sfs)\n"
   ]
  },
  {
   "cell_type": "code",
   "execution_count": 7,
   "id": "2debb725",
   "metadata": {},
   "outputs": [
    {
     "name": "stdout",
     "output_type": "stream",
     "text": [
      "Accuracy score is:    78.95 %\n"
     ]
    }
   ],
   "source": [
    "print(\"Accuracy score is:   \", round(accuracy_score(y_test,y_pred_sfs)*100,2,),\"%\")"
   ]
  },
  {
   "cell_type": "markdown",
   "id": "427065c6",
   "metadata": {},
   "source": [
    "## PCA"
   ]
  },
  {
   "cell_type": "code",
   "execution_count": 79,
   "id": "3b2b41c0",
   "metadata": {},
   "outputs": [],
   "source": [
    "from sklearn.decomposition import PCA"
   ]
  },
  {
   "cell_type": "code",
   "execution_count": 91,
   "id": "f5484105",
   "metadata": {},
   "outputs": [],
   "source": [
    "pca = PCA(n_components=5)\n",
    "X_train_transformed =pca.fit_transform(X_train)\n",
    "X_test_transformed = pca.transform(X_test)"
   ]
  },
  {
   "cell_type": "code",
   "execution_count": 109,
   "id": "e5e6a5ee",
   "metadata": {},
   "outputs": [
    {
     "data": {
      "text/plain": [
       "0.7832764505119454"
      ]
     },
     "execution_count": 109,
     "metadata": {},
     "output_type": "execute_result"
    }
   ],
   "source": [
    "model_pca1 = model.named_steps['logisticregression']\n",
    "model_pca1.fit(X_train_transformed,y_train)\n",
    "y_pred_pca = model_pca1.predict(X_test_transformed)\n",
    "accuracy_score(y_test,y_pred_pca)\n"
   ]
  },
  {
   "cell_type": "markdown",
   "id": "08b13048",
   "metadata": {},
   "source": [
    "## LDA"
   ]
  },
  {
   "cell_type": "code",
   "execution_count": 106,
   "id": "bf24af49",
   "metadata": {},
   "outputs": [],
   "source": [
    "from sklearn.discriminant_analysis import LinearDiscriminantAnalysis"
   ]
  },
  {
   "cell_type": "code",
   "execution_count": 108,
   "id": "a8323aac",
   "metadata": {},
   "outputs": [
    {
     "data": {
      "text/plain": [
       "0.7918088737201365"
      ]
     },
     "execution_count": 108,
     "metadata": {},
     "output_type": "execute_result"
    }
   ],
   "source": [
    "lda = LinearDiscriminantAnalysis()\n",
    "X_train_lda = lda.fit_transform(X_train,y_train)\n",
    "X_test_lda = lda.transform(X_test)\n",
    "model_lda = LogisticRegression()\n",
    "model_lda.fit(X_train_lda,y_train)\n",
    "y_pred_lda = model_lda.predict(X_test_lda)\n",
    "accuracy_score(y_test,y_pred_lda)"
   ]
  }
 ],
 "metadata": {
  "kernelspec": {
   "display_name": "base",
   "language": "python",
   "name": "python3"
  },
  "language_info": {
   "codemirror_mode": {
    "name": "ipython",
    "version": 3
   },
   "file_extension": ".py",
   "mimetype": "text/x-python",
   "name": "python",
   "nbconvert_exporter": "python",
   "pygments_lexer": "ipython3",
   "version": "3.12.7"
  }
 },
 "nbformat": 4,
 "nbformat_minor": 5
}
